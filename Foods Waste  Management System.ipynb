{
  "nbformat": 4,
  "nbformat_minor": 0,
  "metadata": {
    "colab": {
      "provenance": [],
      "authorship_tag": "ABX9TyPmRJP9JcJWSGD18fZxR09g",
      "include_colab_link": true
    },
    "kernelspec": {
      "name": "python3",
      "display_name": "Python 3"
    },
    "language_info": {
      "name": "python"
    }
  },
  "cells": [
    {
      "cell_type": "markdown",
      "metadata": {
        "id": "view-in-github",
        "colab_type": "text"
      },
      "source": [
        "<a href=\"https://colab.research.google.com/github/Ashu1631-web/Food-Waste-Management-System/blob/main/Foods%20Waste%20%20Management%20System.ipynb\" target=\"_parent\"><img src=\"https://colab.research.google.com/assets/colab-badge.svg\" alt=\"Open In Colab\"/></a>"
      ]
    },
    {
      "cell_type": "code",
      "execution_count": 1,
      "metadata": {
        "id": "9GmPuwpSDEFJ"
      },
      "outputs": [],
      "source": [
        "import pandas as pd\n",
        "import sqlite3"
      ]
    },
    {
      "cell_type": "code",
      "source": [
        "# Load data from CSV files\n",
        "providers = pd.read_csv(\"providers_data.csv\")\n",
        "receivers = pd.read_csv(\"receivers_data.csv\")\n",
        "food_listings = pd.read_csv(\"food_listings_data.csv\")\n",
        "claims = pd.read_csv(\"claims_data.csv\")"
      ],
      "metadata": {
        "id": "SrvGnRuNFAQR"
      },
      "execution_count": null,
      "outputs": []
    },
    {
      "cell_type": "code",
      "source": [],
      "metadata": {
        "id": "_Jf5C9ZwFFzR"
      },
      "execution_count": null,
      "outputs": []
    }
  ]
}