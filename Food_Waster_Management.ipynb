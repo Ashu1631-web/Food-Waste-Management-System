# food Waste Management_app.py
import streamlit as st

st.title("This is my project")
st.header("This is a header")
st.subheader("This is a subheader")

st.text("Food Waster Managemnet")
st.markdown("### This is a markdown text")

# Input Widgets
name = st.text_input("Enter your name")
age = st.number_input("Enter your age", min_value=1, max_value=100, step=1)
st.write(f"Your age is: {age}")
mobile = st.text_input("Enter your mobile number", max_chars=10)
if mobile and not mobile.isdigit():
    st.error("Please enter only digits for mobile number")
else:
    if mobile:
        st.write(f"Your mobile number is: {mobile}")
feedback = st.text_area("Provide your feedback")

# Buttons and Checkboxes
if st.button("Submit"):
    st.success(f"Hello {name}, thanks for your feedback!")

agree = st.checkbox("I agree to the terms and conditions")
if agree:
    st.write("You agreed!")

# RADIO: now shows hotel names
hotel_choice = st.radio("Choose a hotel:", ["Hotel Taj", "Hotel Oberoi", "Hotel Marriott"])
st.write(f"You selected: {hotel_choice}")

# SELECTBOX: now shows food names
food = st.selectbox("Select a food", ["Biryani", "Paneer Butter Masala", "Masala Dosa", "Pizza"])
st.write(f"You chose: {food}")

# Multiselect (kept as hobbies, you can change labels if chaho)
hobbies = st.multiselect("Select your hobbies", ["Reading", "Coding", "Gaming"])
st.write(f"Your hobbies: {', '.join(hobbies)}")

# Sliders and Number Input
age = st.slider("Select your age", 1, 100, 25)
st.write(f"Your age is: {age}")
